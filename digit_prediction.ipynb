{
  "nbformat": 4,
  "nbformat_minor": 0,
  "metadata": {
    "colab": {
      "provenance": [],
      "authorship_tag": "ABX9TyNwSr8ePg4eP/SnT02KICIt",
      "include_colab_link": true
    },
    "kernelspec": {
      "name": "python3",
      "display_name": "Python 3"
    },
    "language_info": {
      "name": "python"
    },
    "accelerator": "TPU"
  },
  "cells": [
    {
      "cell_type": "markdown",
      "metadata": {
        "id": "view-in-github",
        "colab_type": "text"
      },
      "source": [
        "<a href=\"https://colab.research.google.com/github/DOMINION-JOHN1/MNIST-image_recognition/blob/main/digit_prediction.ipynb\" target=\"_parent\"><img src=\"https://colab.research.google.com/assets/colab-badge.svg\" alt=\"Open In Colab\"/></a>"
      ]
    },
    {
      "cell_type": "code",
      "execution_count": 11,
      "metadata": {
        "id": "J_FwRStNHGeY"
      },
      "outputs": [],
      "source": [
        "import tensorflow as tf\n",
        "from tensorflow.keras.models import Sequential\n",
        "from tensorflow.keras.layers import Conv2D, MaxPool2D, Activation, Dropout, Flatten, Dense, Dropout, LayerNormalization, BatchNormalization,Input\n",
        "from tensorflow.keras.preprocessing.image import ImageDataGenerator, img_to_array, load_img\n",
        "from keras.callbacks import ModelCheckpoint\n",
        "import matplotlib.pyplot as plt"
      ]
    },
    {
      "cell_type": "code",
      "source": [
        "from keras.datasets import mnist\n",
        "(x_train, y_train), (x_test, y_test) = mnist.load_data()\n",
        "x_train = x_train.reshape(-1, 28,28,1)\n",
        "x_test = x_test.reshape(-1, 28,28,1)\n",
        "X_train= x_train/255\n",
        "X_test=x_test/255\n",
        "\n"
      ],
      "metadata": {
        "id": "nyZvnUeiHp32"
      },
      "execution_count": 12,
      "outputs": []
    },
    {
      "cell_type": "code",
      "source": [
        "from tensorflow.keras.utils import to_categorical\n",
        "y_train = to_categorical(y_train)\n",
        "y_test = to_categorical(y_test)"
      ],
      "metadata": {
        "id": "sWOsyNcJnHNe"
      },
      "execution_count": 13,
      "outputs": []
    },
    {
      "cell_type": "code",
      "source": [],
      "metadata": {
        "id": "Pec-aoqoKJaA"
      },
      "execution_count": 13,
      "outputs": []
    },
    {
      "cell_type": "code",
      "source": [
        "\n",
        "\n"
      ],
      "metadata": {
        "id": "9DDcSZS_Q-p2"
      },
      "execution_count": 13,
      "outputs": []
    },
    {
      "cell_type": "code",
      "source": [
        "from tensorflow.keras.models import Sequential\n",
        "from tensorflow.keras.layers import Conv2D, MaxPooling2D, Flatten, Dense\n",
        "\n",
        "# Model creation\n",
        "model = Sequential()\n",
        "model.add(Conv2D(32, (5, 5), strides=(1, 1), activation='relu', input_shape=(28, 28, 1)))\n",
        "model.add(MaxPooling2D(pool_size=(2, 2), strides=(2, 2)))\n",
        "\n",
        "model.add(Conv2D(64, (5, 5), strides=(1, 1), activation='relu'))\n",
        "model.add(MaxPooling2D(pool_size=(2, 2), strides=(2, 2)))\n",
        "\n",
        "model.add(Flatten())\n",
        "\n",
        "model.add(Dense(100, activation='relu'))\n",
        "model.add(Dense(10, activation='softmax'))\n",
        "\n",
        "model.compile(optimizer='adam', loss='categorical_crossentropy', metrics=['accuracy'])\n"
      ],
      "metadata": {
        "id": "G31HV7lyVHBv"
      },
      "execution_count": 14,
      "outputs": []
    },
    {
      "cell_type": "code",
      "source": [
        "model.fit(X_train, y_train, validation_data=(X_test, y_test), epochs=10, batch_size=200, verbose=2)\n",
        "# Final evaluation of the model\n",
        "scores = model.evaluate(X_test, y_test, verbose=0)\n",
        "print(\"Baseline Error: %.2f%%\" % (100-scores[1]*100))"
      ],
      "metadata": {
        "colab": {
          "base_uri": "https://localhost:8080/"
        },
        "id": "Ck9zmJ2MZ_of",
        "outputId": "2bf76747-273a-4856-9fae-64fdbe81f3f4"
      },
      "execution_count": 15,
      "outputs": [
        {
          "output_type": "stream",
          "name": "stdout",
          "text": [
            "Epoch 1/10\n",
            "300/300 - 78s - loss: 0.2399 - accuracy: 0.9328 - val_loss: 0.0689 - val_accuracy: 0.9795 - 78s/epoch - 260ms/step\n",
            "Epoch 2/10\n",
            "300/300 - 72s - loss: 0.0613 - accuracy: 0.9814 - val_loss: 0.0441 - val_accuracy: 0.9865 - 72s/epoch - 239ms/step\n",
            "Epoch 3/10\n",
            "300/300 - 71s - loss: 0.0422 - accuracy: 0.9867 - val_loss: 0.0385 - val_accuracy: 0.9879 - 71s/epoch - 237ms/step\n",
            "Epoch 4/10\n",
            "300/300 - 70s - loss: 0.0322 - accuracy: 0.9900 - val_loss: 0.0282 - val_accuracy: 0.9904 - 70s/epoch - 235ms/step\n",
            "Epoch 5/10\n",
            "300/300 - 76s - loss: 0.0269 - accuracy: 0.9916 - val_loss: 0.0302 - val_accuracy: 0.9901 - 76s/epoch - 253ms/step\n",
            "Epoch 6/10\n",
            "300/300 - 81s - loss: 0.0216 - accuracy: 0.9933 - val_loss: 0.0335 - val_accuracy: 0.9897 - 81s/epoch - 270ms/step\n",
            "Epoch 7/10\n",
            "300/300 - 71s - loss: 0.0169 - accuracy: 0.9947 - val_loss: 0.0415 - val_accuracy: 0.9872 - 71s/epoch - 236ms/step\n",
            "Epoch 8/10\n",
            "300/300 - 71s - loss: 0.0156 - accuracy: 0.9952 - val_loss: 0.0267 - val_accuracy: 0.9918 - 71s/epoch - 235ms/step\n",
            "Epoch 9/10\n",
            "300/300 - 71s - loss: 0.0117 - accuracy: 0.9962 - val_loss: 0.0315 - val_accuracy: 0.9896 - 71s/epoch - 238ms/step\n",
            "Epoch 10/10\n",
            "300/300 - 71s - loss: 0.0113 - accuracy: 0.9964 - val_loss: 0.0411 - val_accuracy: 0.9872 - 71s/epoch - 237ms/step\n",
            "Baseline Error: 1.28%\n"
          ]
        }
      ]
    },
    {
      "cell_type": "code",
      "source": [
        "print(\"Accuracy: {} \\n Error: {}\".format(scores[1], 100-scores[1]*100))"
      ],
      "metadata": {
        "colab": {
          "base_uri": "https://localhost:8080/"
        },
        "id": "u2cISLRHbqrw",
        "outputId": "fab00258-d3d1-4b2a-e18a-3bc3cc0a8c40"
      },
      "execution_count": 17,
      "outputs": [
        {
          "output_type": "stream",
          "name": "stdout",
          "text": [
            "Accuracy: 0.9872000217437744 \n",
            " Error: 1.2799978256225586\n"
          ]
        }
      ]
    },
    {
      "cell_type": "code",
      "source": [
        "import numpy as np\n",
        "import matplotlib.pyplot as plt\n",
        "import random"
      ],
      "metadata": {
        "id": "wbCJaxN1q7D9"
      },
      "execution_count": 18,
      "outputs": []
    },
    {
      "cell_type": "code",
      "source": [
        "n=random.randint(0,1500)\n",
        "plt.imshow(x_test[n])\n",
        "plt.show()"
      ],
      "metadata": {
        "colab": {
          "base_uri": "https://localhost:8080/",
          "height": 430
        },
        "id": "kXTfaPW4rGUp",
        "outputId": "406f8aed-d53a-43aa-ec3a-8674c2a9992a"
      },
      "execution_count": 19,
      "outputs": [
        {
          "output_type": "display_data",
          "data": {
            "text/plain": [
              "<Figure size 640x480 with 1 Axes>"
            ],
            "image/png": "[encoded data removed]"
          },
          "metadata": {}
        }
      ]
    },
    {
      "cell_type": "code",
      "source": [],
      "metadata": {
        "id": "rmNIDwA4rJKH"
      },
      "execution_count": null,
      "outputs": []
    }
  ]
}